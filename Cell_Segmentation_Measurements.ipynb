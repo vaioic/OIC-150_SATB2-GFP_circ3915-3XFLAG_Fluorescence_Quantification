{
 "cells": [
  {
   "cell_type": "markdown",
   "id": "0a148f1d",
   "metadata": {},
   "source": [
    "## Import needed packages"
   ]
  },
  {
   "cell_type": "code",
   "execution_count": null,
   "id": "92c2108a",
   "metadata": {},
   "outputs": [],
   "source": [
    "from aicspylibczi import CziFile\n",
    "import numpy as np\n",
    "import skimage as sk\n",
    "import pandas as pd\n",
    "import os\n",
    "from glob import glob\n",
    "import napari\n",
    "from cellpose import models, io, utils\n",
    "from tqdm import tqdm\n"
   ]
  },
  {
   "cell_type": "markdown",
   "id": "38abdd81",
   "metadata": {},
   "source": [
    "## Create Functions\n",
    "Using two functions for this analysis. \n",
    "\n",
    "`read_and_prep_images` reads in the czi scenes as NumPy compatible arrays, removes the empty dimensions and then reorders the channel axis to be the last axis for compatibility with scikit image. Finally, the nuclei channel is copied and a gaussian blur is applied for improved nuclei segmentation with CellPose.\n",
    "\n",
    "`segment_and_measure_CP` runs the gaussian blurred nuclei images through CellPose with the nuclei model. The masks are then used with the reordered images to collect fluorescence intensity measurements. The gaussian blurred nuclei channel, masks, reordered images, and measurements are all saved."
   ]
  },
  {
   "cell_type": "code",
   "execution_count": null,
   "id": "ee1bc750",
   "metadata": {},
   "outputs": [],
   "source": [
    "def read_and_prep_images(czifile):\n",
    "    scenes = [czifile.read_image(S=s)[0] for s in range(czifile.size[2])]\n",
    "    squeezed = [np.squeeze(i) for i in scenes]\n",
    "    reorder = [np.moveaxis(i,0,-1) for i in squeezed] #channel axis needs to be placed last for scikit-image\n",
    "    nuclei_channel = [reorder[i][...,-1] for i in range(len(reorder))]\n",
    "    gauss_nuc = [sk.filters.gaussian(img, sigma=3) for img in nuclei_channel]\n",
    "    return scenes, reorder, gauss_nuc, nuclei_channel        \n"
   ]
  },
  {
   "cell_type": "code",
   "execution_count": null,
   "id": "0f31e61a",
   "metadata": {},
   "outputs": [],
   "source": [
    "def segment_and_measure_CP(reorder, gauss_nuc, props, save_path, img_name):\n",
    "    for i in range(len(gauss_nuc)):\n",
    "        model = models.Cellpose(gpu=True,model_type='nuclei') # model_type='cyto' or 'nuclei' or 'cyto2' or 'cyto3'\n",
    "        channels =[[0,0]]\n",
    "        masks, _, _, _ = model.eval(gauss_nuc[i], diameter=150, channels=channels, z_axis=0,stitch_threshold=0.1,flow_threshold=0.4,cellprob_threshold=0.0, min_size=100)\n",
    "        # filtered_masks = sk.segmentation.clear_border(masks) #nuclei span the whole image in Z and are removed even if they are complete objects\n",
    "        df = sk.measure.regionprops_table(masks,reorder[i],properties=props)\n",
    "        df = pd.DataFrame.from_dict(df)\n",
    "        #Save Everything\n",
    "        dataframe_path = os.path.join(save_path,'measurements')\n",
    "        df.to_csv(os.path.join(dataframe_path,'measurements_'+img_name[:-4]+'_scene0'+str(i+1)+'.csv'))\n",
    "        masks_path = os.path.join(save_path,'masks')\n",
    "        sk.io.imsave(os.path.join(masks_path,'filtered_masks_'+img_name[:-4]+'_scene0'+str(i+1)+'.tif'),masks,check_contrast=False)\n",
    "        scenes_path = os.path.join(save_path,'scenes')\n",
    "        sk.io.imsave(os.path.join(scenes_path, img_name[:-4]+'_scene0'+str(i+1)+'.tif'),reorder[i])"
   ]
  },
  {
   "cell_type": "markdown",
   "id": "82590491",
   "metadata": {},
   "source": [
    "## Running the pipeline\n",
    "\n",
    "Need to give the functions the location of the flies and save directory, and read in the images with `CziFile`. Then process all images through the above functions with a for loop. Within the loop, use `os.path.basename` to get the file name for saving the outputs and also provide the properties to measure with `sk.measure.regionprops_table`."
   ]
  },
  {
   "cell_type": "code",
   "execution_count": null,
   "id": "afa20503",
   "metadata": {},
   "outputs": [],
   "source": [
    "file_paths = sorted(glob(\"E:\\Fondufe-Mittendorf_Lab\\OIC-150_Images\\*.czi\"))\n",
    "czi_files = list(map(CziFile,file_paths))\n",
    "save_path = \"E:/Fondufe-Mittendorf_Lab/OIC-150_SATB2-GFP_circ3915-3XFLAG_Fluorescence_Quantification/\"\n",
    "for i in tqdm(range(len(czi_files))):\n",
    "    img_name = os.path.basename(file_paths[i])\n",
    "    scenes, reorder, gauss_nuc, nuclei_channel = read_and_prep_images(czi_files[i])\n",
    "    props = ('label', 'intensity_mean')\n",
    "    segment_and_measure_CP(reorder, gauss_nuc, props,save_path,img_name)"
   ]
  }
 ],
 "metadata": {
  "kernelspec": {
   "display_name": "CellPose_CLE_Skan",
   "language": "python",
   "name": "cellpose_cle_skan"
  },
  "language_info": {
   "codemirror_mode": {
    "name": "ipython",
    "version": 3
   },
   "file_extension": ".py",
   "mimetype": "text/x-python",
   "name": "python",
   "nbconvert_exporter": "python",
   "pygments_lexer": "ipython3",
   "version": "3.10.16"
  }
 },
 "nbformat": 4,
 "nbformat_minor": 5
}

{
 "cells": [
  {
   "cell_type": "code",
   "execution_count": 1,
   "id": "92c2108a",
   "metadata": {},
   "outputs": [],
   "source": [
    "from aicspylibczi import CziFile\n",
    "import numpy as np\n",
    "import skimage as sk\n",
    "import pandas as pd\n",
    "import os\n",
    "from glob import glob\n",
    "import napari\n",
    "import pyclesperanto as cle\n"
   ]
  },
  {
   "cell_type": "code",
   "execution_count": null,
   "id": "0524a87e",
   "metadata": {},
   "outputs": [],
   "source": [
    "def normalize_images(input_image,tophat_radius):\n",
    "    input_gpu = cle.push(input_image)\n",
    "    #normalizing the image stack\n",
    "    equalized_intensities_stack = cle.create_like(input_gpu)\n",
    "    a_slice = cle.create([input_gpu.shape[-2], input_gpu.shape[-1]])\n",
    "    num_slices = input_gpu.shape[1]\n",
    "    num_channels = input_gpu.shape[0]\n",
    "    if num_channels == 1:\n",
    "        mean_intensity_stack = cle.mean_of_all_pixels(input_gpu)\n",
    "        corrected_slice = None\n",
    "        for z in range(0, num_slices):\n",
    "            # get a single slice out of the stack\n",
    "            cle.copy_slice(input_gpu, a_slice, z)\n",
    "            # measure its intensity\n",
    "            mean_intensity_slice = cle.mean_of_all_pixels(a_slice)\n",
    "            # correct the intensity\n",
    "            correction_factor = mean_intensity_slice/mean_intensity_stack\n",
    "            corrected_slice = cle.multiply_image_and_scalar(a_slice, corrected_slice, correction_factor)\n",
    "            # copy slice back in a stack\n",
    "            cle.copy_slice(corrected_slice, equalized_intensities_stack, z)\n",
    "    else:\n",
    "        for channel in range(num_channels):\n",
    "            mean_intensity_stack = cle.mean_of_all_pixels(input_gpu[channel,...])\n",
    "            corrected_slice = None\n",
    "            for z in range(0, num_slices):\n",
    "                # get a single slice out of the stack\n",
    "                cle.copy_slice(input_gpu[channel,...], a_slice, z)\n",
    "                # measure its intensity\n",
    "                mean_intensity_slice = cle.mean_of_all_pixels(a_slice)\n",
    "                # correct the intensity\n",
    "                correction_factor = mean_intensity_slice/mean_intensity_stack\n",
    "                corrected_slice = cle.multiply_image_and_scalar(a_slice, corrected_slice, correction_factor)\n",
    "                # copy slice back in a stack\n",
    "                cle.copy_slice(corrected_slice, equalized_intensities_stack[channel], z)\n",
    "    #background subtraction (increase the signal to noise ratio for improved segmentation results)\n",
    "    background_subtracted_top_hat = cle.top_hat_sphere(equalized_intensities_stack,radius_x=tophat_radius,radius_y=tophat_radius,radius_z=tophat_radius)\n",
    "    #pull data off gpu\n",
    "    input_pull = cle.pull(input_gpu)\n",
    "    background_subtracted_top_hat_pull = cle.pull(background_subtracted_top_hat)\n",
    "    equalized_intensities_stack_pull = cle.pull(equalized_intensities_stack)\n",
    "    return background_subtracted_top_hat_pull"
   ]
  },
  {
   "cell_type": "code",
   "execution_count": 5,
   "id": "4dce4a5e",
   "metadata": {},
   "outputs": [],
   "source": [
    "file_paths = sorted(glob(\"E:\\Fondufe-Mittendorf_Lab\\OIC-150_Images\\*.czi\"))\n",
    "czi_files = list(map(CziFile,file_paths))"
   ]
  },
  {
   "cell_type": "code",
   "execution_count": 11,
   "id": "b871b120",
   "metadata": {},
   "outputs": [],
   "source": [
    "test_img = czi_files[0]"
   ]
  },
  {
   "cell_type": "code",
   "execution_count": 12,
   "id": "a0d780cd",
   "metadata": {},
   "outputs": [
    {
     "data": {
      "text/plain": [
       "'BVSTCZYX'"
      ]
     },
     "execution_count": 12,
     "metadata": {},
     "output_type": "execute_result"
    }
   ],
   "source": [
    "test_img.dims"
   ]
  },
  {
   "cell_type": "code",
   "execution_count": 13,
   "id": "f190c737",
   "metadata": {},
   "outputs": [
    {
     "data": {
      "text/plain": [
       "(1, 1, 3, 1, 4, 24, 1012, 1012)"
      ]
     },
     "execution_count": 13,
     "metadata": {},
     "output_type": "execute_result"
    }
   ],
   "source": [
    "test_img.size"
   ]
  },
  {
   "cell_type": "code",
   "execution_count": 21,
   "id": "80e5a649",
   "metadata": {},
   "outputs": [
    {
     "name": "stdout",
     "output_type": "stream",
     "text": [
      "Help on function read_image in module aicspylibczi.CziFile:\n",
      "\n",
      "read_image(self, **kwargs)\n",
      "    Read the subblocks in the CZI file and for any subblocks that match all the constraints in kwargs return\n",
      "    that data. This allows you to select channels/scenes/time-points/Z-slices etc. Note if passed a BGR image\n",
      "    then the dims of the object will returned by this function and the implicit BGR will be expanded into an\n",
      "    A dimension. A is samples per pixel and will only be present for BGR images. This is logically more consistent\n",
      "    than mixing the samples into the channels as was done before aicspylibczi-3.0.0.\n",
      "    \n",
      "    Parameters\n",
      "    ----------\n",
      "    **kwargs\n",
      "        The keywords below allow you to specify the dimensions that you wish to match. If you\n",
      "        under-specify the constraints you can easily end up with a massive image stack.\n",
      "             Z = 1   # The Z-dimension.\n",
      "             C = 2   # The C-dimension (\"channel\").\n",
      "             T = 3   # The T-dimension (\"time\").\n",
      "             R = 4   # The R-dimension (\"rotation\").\n",
      "             S = 5   # The S-dimension (\"scene\").\n",
      "             I = 6   # The I-dimension (\"illumination\").\n",
      "             H = 7   # The H-dimension (\"phase\").\n",
      "             V = 8   # The V-dimension (\"view\").\n",
      "             M = 10  # The M_index, this is only valid for Mosaic files!\n",
      "        Specify the number of cores to use for multithreading with cores.\n",
      "            cores = 3 # use 3 cores for threaded reading of the image.\n",
      "    \n",
      "    Returns\n",
      "    -------\n",
      "    (numpy.ndarray, [Dimension, Size])\n",
      "        a tuple of (numpy.ndarray, a list of (Dimension, size)) the second element of the tuple is to make\n",
      "        sure the numpy.ndarray is interpretable. An example of the list is\n",
      "        [('S', 1), ('T', 1), ('C', 2), ('Z', 25), ('Y', 1024), ('X', 1024)]\n",
      "        so if you probed the numpy.ndarray with .shape you would get (1, 1, 2, 25, 1024, 1024).\n",
      "    \n",
      "    Notes\n",
      "    -----\n",
      "    The M Dimension is a representation of the m_index used inside libCZI. Unfortunately this can be sparsely\n",
      "    packed for a given selection which causes problems when indexing memory. Consequently the M Dimension may\n",
      "    not match the m_index that is being used in libCZI or displayed in Zeiss' Zen software.\n",
      "\n"
     ]
    }
   ],
   "source": [
    "help(CziFile.read_image)"
   ]
  },
  {
   "cell_type": "code",
   "execution_count": null,
   "id": "27f648c6",
   "metadata": {},
   "outputs": [],
   "source": [
    "img = [test_img.read_image(S=i)[0] for i in range(test_img.size[2])]"
   ]
  },
  {
   "cell_type": "code",
   "execution_count": 28,
   "id": "09414d7b",
   "metadata": {},
   "outputs": [],
   "source": [
    "img = np.squeeze(img)"
   ]
  },
  {
   "cell_type": "code",
   "execution_count": 29,
   "id": "293a72d1",
   "metadata": {},
   "outputs": [
    {
     "data": {
      "text/plain": [
       "(4, 24, 1012, 1012)"
      ]
     },
     "execution_count": 29,
     "metadata": {},
     "output_type": "execute_result"
    }
   ],
   "source": [
    "img[0].shape"
   ]
  },
  {
   "cell_type": "code",
   "execution_count": null,
   "id": "7ef08aaa",
   "metadata": {},
   "outputs": [],
   "source": []
  }
 ],
 "metadata": {
  "kernelspec": {
   "display_name": "CellPose_CLE_Skan",
   "language": "python",
   "name": "cellpose_cle_skan"
  },
  "language_info": {
   "codemirror_mode": {
    "name": "ipython",
    "version": 3
   },
   "file_extension": ".py",
   "mimetype": "text/x-python",
   "name": "python",
   "nbconvert_exporter": "python",
   "pygments_lexer": "ipython3",
   "version": "3.10.16"
  }
 },
 "nbformat": 4,
 "nbformat_minor": 5
}

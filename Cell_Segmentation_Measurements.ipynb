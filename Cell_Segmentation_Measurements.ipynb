{
 "cells": [
  {
   "cell_type": "code",
   "execution_count": 1,
   "id": "92c2108a",
   "metadata": {},
   "outputs": [],
   "source": [
    "from aicspylibczi import CziFile\n",
    "import numpy as np\n",
    "import skimage as sk\n",
    "import pandas as pd\n",
    "import os\n",
    "from glob import glob\n",
    "import napari\n",
    "from cellpose import models, io, utils\n",
    "#import pyclesperanto as cle\n"
   ]
  },
  {
   "cell_type": "code",
   "execution_count": 26,
   "id": "ee1bc750",
   "metadata": {},
   "outputs": [],
   "source": [
    "def read_and_prep_images(czifile):\n",
    "    scenes = [czifile.read_image(S=s)[0] for s in range(czifile.size[2])]\n",
    "    squeezed = [np.squeeze(i) for i in scenes]\n",
    "    reorder = [np.moveaxis(i,0,-1) for i in squeezed] #channel axis needs to be placed last for scikit-image\n",
    "    nuclei_channel = [reorder[i][...,-1] for i in range(len(reorder))]\n",
    "    gauss_nuc = [sk.filters.gaussian(img, sigma=3) for img in nuclei_channel]\n",
    "    return scenes, reorder, gauss_nuc, nuclei_channel        \n"
   ]
  },
  {
   "cell_type": "code",
   "execution_count": null,
   "id": "0f31e61a",
   "metadata": {},
   "outputs": [],
   "source": [
    "def segment_and_measure_CP(reorder, gauss_nuc, props, save_path, img_name):\n",
    "    for i in range(len(gauss_nuc)):\n",
    "        model = models.Cellpose(gpu=True,model_type='nuclei') # model_type='cyto' or 'nuclei' or 'cyto2' or 'cyto3'\n",
    "        channels =[[0,0]]\n",
    "        masks, _, _, _ = model.eval(gauss_nuc[i], diameter=150, channels=channels, z_axis=0,stitch_threshold=0.1,flow_threshold=0.4,cellprob_threshold=0.0, min_size=100)\n",
    "        # filtered_masks = sk.segmentation.clear_border(masks) #nuclei span the whole image in Z and are removed even if they are complete objects\n",
    "        df = sk.measure.regionprops_table(masks,reorder[i],properties=props)\n",
    "        df = pd.DataFrame.from_dict(df)\n",
    "        #Save Everything\n",
    "        dataframe_path = os.path.join(save_path,'measurements')\n",
    "        df.to_csv(os.path.join(dataframe_path,'measurements_'+img_name[:-4]+'_scene0'+str(i+1)+'.csv'))\n",
    "        masks_path = os.path.join(save_path,'masks')\n",
    "        sk.io.imsave(os.path.join(masks_path,'filtered_masks_'+img_name[:-4]+'_scene0'+str(i+1)+'.tif'),masks,check_contrast=False)\n",
    "        scenes_path = os.path.join(save_path,'scenes')\n",
    "        sk.io.imsave(os.path.join(scenes_path, img_name[:-4]+'_scene0'+str(i+1)+'.tif'),reorder[i])"
   ]
  },
  {
   "cell_type": "code",
   "execution_count": 28,
   "id": "c9ba059f",
   "metadata": {},
   "outputs": [],
   "source": [
    "def save(save_path, img_name, squeezed, gauss_nuc, filtered_masks, df):\n",
    "    try:\n",
    "        scenes_path = os.mkdir(os.path.join(save_path,'scenes'))\n",
    "        gauss_path = os.mkdir(os.path.join(save_path,'gauss_nuc'))\n",
    "        masks_path = os.mkdir(os.path.join(save_path,'masks'))\n",
    "        dataframe_path = os.mkdir(os.path.join(save_path,'measurements'))\n",
    "    # use the expected paths if the directories exist already\n",
    "    except:\n",
    "        masks_path = os.path.join(save_path,'masks')\n",
    "        gauss_path = os.path.join(save_path,'gauss_nuc')\n",
    "        scenes_path = os.path.join(save_path,'scenes')\n",
    "        dataframe_path = os.path.join(save_path,'measurements')\n",
    "    for i in range(len(filtered_masks)):\n",
    "        sk.io.imsave(os.path.join(masks_path,'filtered_masks_'+img_name[:-4]+'_scene'+str(i)+'.tif'),filtered_masks[i],check_contrast=False)\n",
    "        sk.io.imsave(os.path.join(scenes_path,'normalized_'+img_name[:-4]+'_scene'+str(i)+'.tif'),squeezed[i])\n",
    "        sk.io.imsave(os.path.join(gauss_path,'normalized_'+img_name[:-4]+'_scene'+str(i)+'.tif'),gauss_nuc[i])\n",
    "        df[i].to_csv(os.path.join(dataframe_path,'measurements_'+img_name[:-4]+'_scene'+str(i)+'.csv'))"
   ]
  },
  {
   "cell_type": "code",
   "execution_count": 29,
   "id": "afa20503",
   "metadata": {},
   "outputs": [
    {
     "name": "stderr",
     "output_type": "stream",
     "text": [
      "100%|██████████| 23/23 [00:00<00:00, 118.57it/s]\n",
      "100%|██████████| 23/23 [00:00<00:00, 128.36it/s]\n",
      "100%|██████████| 23/23 [00:00<00:00, 120.26it/s]\n",
      "c:\\ProgramData\\anaconda3\\envs\\CellPoseCLE-env\\lib\\site-packages\\skimage\\_shared\\utils.py:328: UserWarning: E:/Fondufe-Mittendorf_Lab/OIC-150_SATB2-GFP_circ3915-3XFLAG_Fluorescence_Quantification/scenes\\Slide1-unstained_2025_05_05__15_40_55_Airyscan Processing_scene03.tif is a low contrast image\n",
      "  return func(*args, **kwargs)\n"
     ]
    }
   ],
   "source": [
    "file_paths = sorted(glob(\"E:\\Fondufe-Mittendorf_Lab\\OIC-150_Images\\*.czi\"))\n",
    "czi_files = list(map(CziFile,file_paths))\n",
    "save_path = \"E:/Fondufe-Mittendorf_Lab/OIC-150_SATB2-GFP_circ3915-3XFLAG_Fluorescence_Quantification/\"\n",
    "img_name = os.path.basename(file_paths[0])\n",
    "\n",
    "scenes, reorder, gauss_nuc, nuclei_channel = read_and_prep_images(czifile=czi_files[0])\n",
    "props = ('label', 'intensity_mean')\n",
    "segment_and_measure_CP(reorder, gauss_nuc, props,save_path,img_name)"
   ]
  },
  {
   "cell_type": "code",
   "execution_count": 22,
   "id": "cc2f08bb",
   "metadata": {},
   "outputs": [
    {
     "data": {
      "text/plain": [
       "(24, 1012, 1012, 4)"
      ]
     },
     "execution_count": 22,
     "metadata": {},
     "output_type": "execute_result"
    }
   ],
   "source": [
    "reorder[0].shape\n",
    "#sk.io.imsave(os.path.join(save_path, 'scenes','test.tif'),squeezed[0])"
   ]
  },
  {
   "cell_type": "code",
   "execution_count": 6,
   "id": "87f9dcb5",
   "metadata": {},
   "outputs": [
    {
     "name": "stderr",
     "output_type": "stream",
     "text": [
      "c:\\ProgramData\\anaconda3\\envs\\CellPoseCLE-env\\lib\\site-packages\\skimage\\_shared\\utils.py:328: UserWarning: E:/Fondufe-Mittendorf_Lab/OIC-150_SATB2-GFP_circ3915-3XFLAG_Fluorescence_Quantification/scenes\\normalized_Slide1-unstained_2025_05_05__15_40_55_Airyscan Processing_scene2.tif is a low contrast image\n",
      "  return func(*args, **kwargs)\n"
     ]
    }
   ],
   "source": [
    "save_path = \"E:/Fondufe-Mittendorf_Lab/OIC-150_SATB2-GFP_circ3915-3XFLAG_Fluorescence_Quantification/\"\n",
    "img_name = os.path.basename(file_paths[0])\n",
    "save(save_path,img_name,squeezed,gauss_nuc,filtered_masks,df)"
   ]
  },
  {
   "cell_type": "code",
   "execution_count": 14,
   "id": "f5795511",
   "metadata": {},
   "outputs": [
    {
     "data": {
      "text/plain": [
       "(24, 1012, 1012)"
      ]
     },
     "execution_count": 14,
     "metadata": {},
     "output_type": "execute_result"
    }
   ],
   "source": [
    "gauss_nuc[0].shape"
   ]
  },
  {
   "cell_type": "code",
   "execution_count": null,
   "id": "4dce4a5e",
   "metadata": {},
   "outputs": [],
   "source": [
    "file_paths = sorted(glob(\"E:\\Fondufe-Mittendorf_Lab\\OIC-150_Images\\*.czi\"))\n",
    "czi_files = list(map(CziFile,file_paths))\n"
   ]
  },
  {
   "cell_type": "code",
   "execution_count": null,
   "id": "b871b120",
   "metadata": {},
   "outputs": [],
   "source": [
    "czi_files[0].size[2]"
   ]
  },
  {
   "cell_type": "code",
   "execution_count": null,
   "id": "27f648c6",
   "metadata": {},
   "outputs": [],
   "source": [
    "img = [czi_files[0].read_image(S=i)[0] for i in range(czi_files[0].size[2])]\n",
    "squeezed = [np.squeeze(i) for i in img]"
   ]
  },
  {
   "cell_type": "code",
   "execution_count": null,
   "id": "e2018298",
   "metadata": {},
   "outputs": [],
   "source": [
    "squeezed[0].shape"
   ]
  },
  {
   "cell_type": "code",
   "execution_count": null,
   "id": "09414d7b",
   "metadata": {},
   "outputs": [],
   "source": [
    "img = np.squeeze(img)\n",
    "print(img.shape)\n",
    "split = np.split(img, img.shape[1], axis=1)"
   ]
  },
  {
   "cell_type": "code",
   "execution_count": null,
   "id": "293a72d1",
   "metadata": {},
   "outputs": [],
   "source": [
    "squeeze = np.squeeze(split)\n",
    "squeeze[0].shape"
   ]
  },
  {
   "cell_type": "code",
   "execution_count": null,
   "id": "fd9d15c2",
   "metadata": {},
   "outputs": [],
   "source": [
    "gauss = sk.filters.gaussian(test[-1,...],sigma=3)"
   ]
  },
  {
   "cell_type": "code",
   "execution_count": null,
   "id": "92856326",
   "metadata": {},
   "outputs": [],
   "source": [
    "io.logger_setup()\n",
    "model = models.Cellpose(gpu=True,model_type='nuclei') # model_type='cyto' or 'nuclei' or 'cyto2' or 'cyto3'\n",
    "channels =[[0,0]]\n",
    "masks, _, _, _ = model.eval(gauss, diameter=150, channels=channels, z_axis=0,stitch_threshold=0.1,flow_threshold=0.4,cellprob_threshold=0.0, min_size=100)"
   ]
  },
  {
   "cell_type": "code",
   "execution_count": null,
   "id": "9d3a87c4",
   "metadata": {},
   "outputs": [],
   "source": [
    "voxel = [0.25,0.13,0.13]\n",
    "viewer = napari.view_image(gauss, scale=voxel)\n",
    "viewer.add_labels(masks,scale=voxel)"
   ]
  },
  {
   "cell_type": "code",
   "execution_count": null,
   "id": "e3342752",
   "metadata": {},
   "outputs": [],
   "source": []
  }
 ],
 "metadata": {
  "kernelspec": {
   "display_name": "CellPose_CLE_Skan",
   "language": "python",
   "name": "cellpose_cle_skan"
  },
  "language_info": {
   "codemirror_mode": {
    "name": "ipython",
    "version": 3
   },
   "file_extension": ".py",
   "mimetype": "text/x-python",
   "name": "python",
   "nbconvert_exporter": "python",
   "pygments_lexer": "ipython3",
   "version": "3.10.16"
  }
 },
 "nbformat": 4,
 "nbformat_minor": 5
}

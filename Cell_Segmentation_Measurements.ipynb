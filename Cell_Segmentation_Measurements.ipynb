{
 "cells": [
  {
   "cell_type": "code",
   "execution_count": 49,
   "id": "92c2108a",
   "metadata": {},
   "outputs": [],
   "source": [
    "from aicspylibczi import CziFile\n",
    "import numpy as np\n",
    "import skimage as sk\n",
    "import pandas as pd\n",
    "import os\n",
    "from glob import glob\n",
    "import napari\n",
    "from cellpose import models, io, utils\n",
    "#import pyclesperanto as cle\n"
   ]
  },
  {
   "cell_type": "code",
   "execution_count": 205,
   "id": "ee1bc750",
   "metadata": {},
   "outputs": [],
   "source": [
    "def read_and_prep_images(czifile):\n",
    "    scenes = [czifile.read_image(S=s)[0] for s in range(czifile.size[2])]\n",
    "    squeezed = [np.squeeze(i) for i in scenes]\n",
    "    nuclei_channel = [squeezed[i][-1,...] for i in range(len(squeezed))]\n",
    "    gauss_nuc = [sk.filters.gaussian(img, sigma=3) for img in nuclei_channel]\n",
    "    return scenes, squeezed, gauss_nuc, nuclei_channel        \n"
   ]
  },
  {
   "cell_type": "code",
   "execution_count": null,
   "id": "0f31e61a",
   "metadata": {},
   "outputs": [],
   "source": [
    "def segment_and_measure_CP():\n"
   ]
  },
  {
   "cell_type": "code",
   "execution_count": 206,
   "id": "afa20503",
   "metadata": {},
   "outputs": [],
   "source": [
    "file_paths = sorted(glob(\"E:\\Fondufe-Mittendorf_Lab\\OIC-150_Images\\*.czi\"))\n",
    "czi_files = list(map(CziFile,file_paths))\n",
    "scenes, squeezed, gauss_nuc, nuclei_channel = read_and_prep_images(czifile=czi_files[0])"
   ]
  },
  {
   "cell_type": "code",
   "execution_count": 213,
   "id": "f5795511",
   "metadata": {},
   "outputs": [
    {
     "data": {
      "text/plain": [
       "(24, 1012, 1012)"
      ]
     },
     "execution_count": 213,
     "metadata": {},
     "output_type": "execute_result"
    }
   ],
   "source": [
    "gauss_nuc[0].shape"
   ]
  },
  {
   "cell_type": "code",
   "execution_count": 189,
   "id": "4dce4a5e",
   "metadata": {},
   "outputs": [],
   "source": [
    "file_paths = sorted(glob(\"E:\\Fondufe-Mittendorf_Lab\\OIC-150_Images\\*.czi\"))\n",
    "czi_files = list(map(CziFile,file_paths))\n"
   ]
  },
  {
   "cell_type": "code",
   "execution_count": 192,
   "id": "b871b120",
   "metadata": {},
   "outputs": [
    {
     "data": {
      "text/plain": [
       "3"
      ]
     },
     "execution_count": 192,
     "metadata": {},
     "output_type": "execute_result"
    }
   ],
   "source": [
    "czi_files[0].size[2]"
   ]
  },
  {
   "cell_type": "code",
   "execution_count": 196,
   "id": "27f648c6",
   "metadata": {},
   "outputs": [],
   "source": [
    "img = [czi_files[0].read_image(S=i)[0] for i in range(czi_files[0].size[2])]\n",
    "squeezed = [np.squeeze(i) for i in img]"
   ]
  },
  {
   "cell_type": "code",
   "execution_count": 198,
   "id": "e2018298",
   "metadata": {},
   "outputs": [
    {
     "data": {
      "text/plain": [
       "(4, 24, 1012, 1012)"
      ]
     },
     "execution_count": 198,
     "metadata": {},
     "output_type": "execute_result"
    }
   ],
   "source": [
    "squeezed[0].shape"
   ]
  },
  {
   "cell_type": "code",
   "execution_count": 163,
   "id": "09414d7b",
   "metadata": {},
   "outputs": [
    {
     "name": "stdout",
     "output_type": "stream",
     "text": [
      "(3, 4, 27, 1012, 1012)\n"
     ]
    }
   ],
   "source": [
    "img = np.squeeze(img)\n",
    "print(img.shape)\n",
    "split = np.split(img, img.shape[1], axis=1)"
   ]
  },
  {
   "cell_type": "code",
   "execution_count": 159,
   "id": "293a72d1",
   "metadata": {},
   "outputs": [
    {
     "data": {
      "text/plain": [
       "(3, 27, 1012, 1012)"
      ]
     },
     "execution_count": 159,
     "metadata": {},
     "output_type": "execute_result"
    }
   ],
   "source": [
    "squeeze = np.squeeze(split)\n",
    "squeeze[0].shape"
   ]
  },
  {
   "cell_type": "code",
   "execution_count": 144,
   "id": "fd9d15c2",
   "metadata": {},
   "outputs": [],
   "source": [
    "gauss = sk.filters.gaussian(test[-1,...],sigma=3)"
   ]
  },
  {
   "cell_type": "code",
   "execution_count": 147,
   "id": "92856326",
   "metadata": {},
   "outputs": [
    {
     "name": "stdout",
     "output_type": "stream",
     "text": [
      "creating new log file\n",
      "2025-06-20 12:38:49,808 [INFO] WRITING LOG OUTPUT TO C:\\Users\\kristin.gallik\\.cellpose\\run.log\n",
      "2025-06-20 12:38:49,808 [INFO] \n",
      "cellpose version: \t3.1.1.2 \n",
      "platform:       \twin32 \n",
      "python version: \t3.10.16 \n",
      "torch version:  \t2.7.0+cu118\n",
      "2025-06-20 12:38:49,808 [INFO] ** TORCH CUDA version installed and working. **\n",
      "2025-06-20 12:38:49,817 [INFO] >>>> using GPU (CUDA)\n",
      "2025-06-20 12:38:49,819 [INFO] >> nuclei << model set to be used\n",
      "2025-06-20 12:38:49,921 [INFO] >>>> loading model C:\\Users\\kristin.gallik\\.cellpose\\models\\nucleitorch_0\n",
      "2025-06-20 12:38:50,050 [INFO] >>>> model diam_mean =  17.000 (ROIs rescaled to this size during training)\n",
      "2025-06-20 12:38:50,054 [INFO] channels set to [[0, 0]]\n",
      "2025-06-20 12:38:50,055 [INFO] ~~~ FINDING MASKS ~~~\n",
      "2025-06-20 12:38:50,055 [INFO] multi-stack tiff read in as having 27 planes 1 channels\n",
      "2025-06-20 12:38:50,385 [INFO] 0%|          | 0/4 [00:00<?, ?it/s]\n",
      "2025-06-20 12:38:50,485 [INFO] 100%|##########| 4/4 [00:00<00:00, 40.00it/s]\n",
      "2025-06-20 12:38:50,690 [INFO] network run in 0.30s\n",
      "2025-06-20 12:38:50,690 [INFO] 0%|          | 0/27 [00:00<?, ?it/s]\n",
      "2025-06-20 12:38:50,690 [INFO] No cell pixels found.\n",
      "2025-06-20 12:38:50,702 [INFO] No cell pixels found.\n",
      "2025-06-20 12:39:09,184 [INFO] 100%|##########| 27/27 [00:18<00:00,  1.46it/s]\n",
      "2025-06-20 12:39:09,191 [INFO] stitching 27 planes using stitch_threshold=0.100 to make 3D masks\n"
     ]
    },
    {
     "name": "stderr",
     "output_type": "stream",
     "text": [
      "100%|██████████| 26/26 [00:00<00:00, 152.95it/s]\n"
     ]
    },
    {
     "name": "stdout",
     "output_type": "stream",
     "text": [
      "2025-06-20 12:39:09,788 [INFO] masks created in 19.10s\n",
      "2025-06-20 12:39:11,973 [INFO] >>>> TOTAL TIME 21.92 sec\n"
     ]
    }
   ],
   "source": [
    "io.logger_setup()\n",
    "model = models.Cellpose(gpu=True,model_type='nuclei') # model_type='cyto' or 'nuclei' or 'cyto2' or 'cyto3'\n",
    "channels =[[0,0]]\n",
    "masks, _, _, _ = model.eval(gauss, diameter=150, channels=channels, z_axis=0,stitch_threshold=0.1,flow_threshold=0.4,cellprob_threshold=0.0, min_size=100)"
   ]
  },
  {
   "cell_type": "code",
   "execution_count": 149,
   "id": "9d3a87c4",
   "metadata": {},
   "outputs": [
    {
     "data": {
      "text/plain": [
       "<Labels layer 'masks' at 0x16e5464b700>"
      ]
     },
     "execution_count": 149,
     "metadata": {},
     "output_type": "execute_result"
    }
   ],
   "source": [
    "voxel = [0.25,0.13,0.13]\n",
    "viewer = napari.view_image(gauss, scale=voxel)\n",
    "viewer.add_labels(masks,scale=voxel)"
   ]
  },
  {
   "cell_type": "code",
   "execution_count": null,
   "id": "e3342752",
   "metadata": {},
   "outputs": [],
   "source": []
  }
 ],
 "metadata": {
  "kernelspec": {
   "display_name": "CellPose_CLE_Skan",
   "language": "python",
   "name": "cellpose_cle_skan"
  },
  "language_info": {
   "codemirror_mode": {
    "name": "ipython",
    "version": 3
   },
   "file_extension": ".py",
   "mimetype": "text/x-python",
   "name": "python",
   "nbconvert_exporter": "python",
   "pygments_lexer": "ipython3",
   "version": "3.10.16"
  }
 },
 "nbformat": 4,
 "nbformat_minor": 5
}

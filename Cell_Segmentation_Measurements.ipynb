{
 "cells": [
  {
   "cell_type": "code",
   "execution_count": 49,
   "id": "92c2108a",
   "metadata": {},
   "outputs": [],
   "source": [
    "from aicspylibczi import CziFile\n",
    "import numpy as np\n",
    "import skimage as sk\n",
    "import pandas as pd\n",
    "import os\n",
    "from glob import glob\n",
    "import napari\n",
    "from cellpose import models, io, utils\n",
    "#import pyclesperanto as cle\n"
   ]
  },
  {
   "cell_type": "code",
   "execution_count": 38,
   "id": "0f31e61a",
   "metadata": {},
   "outputs": [],
   "source": [
    "def normalize_images_CPU(input):\n",
    "    equalized_stack = np.zeros_like(input)\n",
    "    num_slices = input.shape[1]\n",
    "    num_channels = input.shape[0]\n",
    "    if num_channels > 1:\n",
    "        for channel in range(num_channels):\n",
    "            channel_stack = input[channel,...]\n",
    "            mean_intensity_stack = sk.filters.threshold_mean(channel_stack)\n",
    "            corrected_stack = np.astype(np.stack([channel_stack[z,...]*(sk.filters.threshold_mean(channel_stack[z,...])/mean_intensity_stack) for z in range(num_slices)], axis=0),np.uint16)\n",
    "            background_subtracted = np.astype(sk.morphology.white_tophat(corrected_stack),np.uint16)\n",
    "            np.copyto(equalized_stack[channel,...],background_subtracted)\n",
    "    else:\n",
    "        mean_intensity_stack = sk.filters.threshold_mean(input)\n",
    "        corrected_stack = np.astype(np.stack([input[z,...]*(sk.filters.threshold_mean(input[z,...])/mean_intensity_stack) for z in range(num_slices)], axis=0),np.uint16)\n",
    "        background_subtracted = sk.morphology.white_tophat(corrected_stack)\n",
    "        np.copyto(equalized_stack,background_subtracted)\n",
    "    return equalized_stack           \n"
   ]
  },
  {
   "cell_type": "code",
   "execution_count": 3,
   "id": "4dce4a5e",
   "metadata": {},
   "outputs": [],
   "source": [
    "file_paths = sorted(glob(\"E:\\Fondufe-Mittendorf_Lab\\OIC-150_Images\\*.czi\"))\n",
    "czi_files = list(map(CziFile,file_paths))"
   ]
  },
  {
   "cell_type": "code",
   "execution_count": 50,
   "id": "b871b120",
   "metadata": {},
   "outputs": [],
   "source": [
    "test_img = czi_files[0]"
   ]
  },
  {
   "cell_type": "code",
   "execution_count": 51,
   "id": "27f648c6",
   "metadata": {},
   "outputs": [],
   "source": [
    "img = [test_img.read_image(S=i)[0] for i in range(test_img.size[2])]"
   ]
  },
  {
   "cell_type": "code",
   "execution_count": 88,
   "id": "09414d7b",
   "metadata": {},
   "outputs": [
    {
     "data": {
      "text/plain": [
       "(3, 4, 24, 1012, 1012)"
      ]
     },
     "execution_count": 88,
     "metadata": {},
     "output_type": "execute_result"
    }
   ],
   "source": [
    "img = np.squeeze(img)\n",
    "img.shape"
   ]
  },
  {
   "cell_type": "code",
   "execution_count": 95,
   "id": "293a72d1",
   "metadata": {},
   "outputs": [
    {
     "data": {
      "text/plain": [
       "(4, 24, 1012, 1012)"
      ]
     },
     "execution_count": 95,
     "metadata": {},
     "output_type": "execute_result"
    }
   ],
   "source": [
    "test = img[0]\n",
    "test.shape"
   ]
  },
  {
   "cell_type": "code",
   "execution_count": 99,
   "id": "fd9d15c2",
   "metadata": {},
   "outputs": [],
   "source": [
    "gauss = sk.filters.gaussian(test[-1,...])"
   ]
  },
  {
   "cell_type": "code",
   "execution_count": 100,
   "id": "92856326",
   "metadata": {},
   "outputs": [
    {
     "name": "stdout",
     "output_type": "stream",
     "text": [
      "creating new log file\n",
      "2025-06-20 12:20:06,372 [INFO] WRITING LOG OUTPUT TO C:\\Users\\kristin.gallik\\.cellpose\\run.log\n",
      "2025-06-20 12:20:06,373 [INFO] \n",
      "cellpose version: \t3.1.1.2 \n",
      "platform:       \twin32 \n",
      "python version: \t3.10.16 \n",
      "torch version:  \t2.7.0+cu118\n",
      "2025-06-20 12:20:06,375 [INFO] ** TORCH CUDA version installed and working. **\n",
      "2025-06-20 12:20:06,376 [INFO] >>>> using GPU (CUDA)\n",
      "2025-06-20 12:20:06,377 [INFO] >> cyto3 << model set to be used\n",
      "2025-06-20 12:20:06,490 [INFO] >>>> loading model C:\\Users\\kristin.gallik\\.cellpose\\models\\cyto3\n",
      "2025-06-20 12:20:06,772 [INFO] >>>> model diam_mean =  30.000 (ROIs rescaled to this size during training)\n",
      "2025-06-20 12:20:06,775 [INFO] channels set to [[0, 0]]\n",
      "2025-06-20 12:20:06,775 [INFO] ~~~ FINDING MASKS ~~~\n",
      "2025-06-20 12:20:06,776 [INFO] multi-stack tiff read in as having 24 planes 1 channels\n",
      "2025-06-20 12:20:07,086 [INFO] 0%|          | 0/12 [00:00<?, ?it/s]\n",
      "2025-06-20 12:20:08,039 [INFO] 100%|##########| 12/12 [00:00<00:00, 12.62it/s]\n",
      "2025-06-20 12:20:08,235 [INFO] network run in 1.15s\n",
      "2025-06-20 12:20:08,237 [INFO] 0%|          | 0/24 [00:00<?, ?it/s]\n",
      "2025-06-20 12:20:21,674 [INFO] 100%|##########| 24/24 [00:13<00:00,  1.79it/s]\n",
      "2025-06-20 12:20:21,675 [INFO] stitching 24 planes using stitch_threshold=0.300 to make 3D masks\n"
     ]
    },
    {
     "name": "stderr",
     "output_type": "stream",
     "text": [
      "100%|██████████| 23/23 [00:00<00:00, 124.51it/s]\n"
     ]
    },
    {
     "name": "stdout",
     "output_type": "stream",
     "text": [
      "2025-06-20 12:20:22,262 [INFO] masks created in 14.03s\n",
      "2025-06-20 12:20:24,255 [INFO] >>>> TOTAL TIME 17.48 sec\n"
     ]
    }
   ],
   "source": [
    "io.logger_setup()\n",
    "model = models.Cellpose(gpu=True,model_type='cyto3') # model_type='cyto' or 'nuclei' or 'cyto2' or 'cyto3'\n",
    "channels =[[0,0]]\n",
    "masks, _, _, _ = model.eval(gauss, diameter=100, channels=channels, z_axis=0,stitch_threshold=0.3,flow_threshold=0.4,cellprob_threshold=2.0, min_size=100)"
   ]
  },
  {
   "cell_type": "code",
   "execution_count": 101,
   "id": "9d3a87c4",
   "metadata": {},
   "outputs": [
    {
     "data": {
      "text/plain": [
       "<Labels layer 'masks' at 0x16d7b7ffbe0>"
      ]
     },
     "execution_count": 101,
     "metadata": {},
     "output_type": "execute_result"
    }
   ],
   "source": [
    "voxel = [0.25,0.13,0.13]\n",
    "viewer = napari.view_image(gauss, scale=voxel)\n",
    "viewer.add_labels(masks,scale=voxel)"
   ]
  },
  {
   "cell_type": "code",
   "execution_count": null,
   "id": "e3342752",
   "metadata": {},
   "outputs": [],
   "source": []
  }
 ],
 "metadata": {
  "kernelspec": {
   "display_name": "CellPose_CLE_Skan",
   "language": "python",
   "name": "cellpose_cle_skan"
  },
  "language_info": {
   "codemirror_mode": {
    "name": "ipython",
    "version": 3
   },
   "file_extension": ".py",
   "mimetype": "text/x-python",
   "name": "python",
   "nbconvert_exporter": "python",
   "pygments_lexer": "ipython3",
   "version": "3.10.16"
  }
 },
 "nbformat": 4,
 "nbformat_minor": 5
}
